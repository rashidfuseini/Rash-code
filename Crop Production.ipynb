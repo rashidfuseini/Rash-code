{
 "cells": [
  {
   "cell_type": "code",
   "execution_count": 1,
   "id": "35aa7bb5",
   "metadata": {},
   "outputs": [],
   "source": [
    "import numpy as np\n",
    "import pandas as pd"
   ]
  },
  {
   "cell_type": "code",
   "execution_count": 2,
   "id": "9283d25c",
   "metadata": {},
   "outputs": [],
   "source": [
    "import matplotlib.pyplot as plt\n",
    "import seaborn as sns\n",
    "%matplotlib inline"
   ]
  },
  {
   "cell_type": "code",
   "execution_count": 3,
   "id": "741c580c",
   "metadata": {},
   "outputs": [],
   "source": [
    "df=pd.read_csv('APY.csv')"
   ]
  },
  {
   "cell_type": "code",
   "execution_count": 4,
   "id": "2e04ab45",
   "metadata": {},
   "outputs": [
    {
     "data": {
      "text/html": [
       "<div>\n",
       "<style scoped>\n",
       "    .dataframe tbody tr th:only-of-type {\n",
       "        vertical-align: middle;\n",
       "    }\n",
       "\n",
       "    .dataframe tbody tr th {\n",
       "        vertical-align: top;\n",
       "    }\n",
       "\n",
       "    .dataframe thead th {\n",
       "        text-align: right;\n",
       "    }\n",
       "</style>\n",
       "<table border=\"1\" class=\"dataframe\">\n",
       "  <thead>\n",
       "    <tr style=\"text-align: right;\">\n",
       "      <th></th>\n",
       "      <th>State</th>\n",
       "      <th>District</th>\n",
       "      <th>Crop</th>\n",
       "      <th>Crop_Year</th>\n",
       "      <th>Season</th>\n",
       "      <th>Area</th>\n",
       "      <th>Production</th>\n",
       "      <th>Yield</th>\n",
       "    </tr>\n",
       "  </thead>\n",
       "  <tbody>\n",
       "    <tr>\n",
       "      <th>0</th>\n",
       "      <td>Andaman and Nicobar Island</td>\n",
       "      <td>NICOBARS</td>\n",
       "      <td>Arecanut</td>\n",
       "      <td>2007</td>\n",
       "      <td>Kharif</td>\n",
       "      <td>2439.6</td>\n",
       "      <td>3415.0</td>\n",
       "      <td>1.40</td>\n",
       "    </tr>\n",
       "    <tr>\n",
       "      <th>1</th>\n",
       "      <td>Andaman and Nicobar Island</td>\n",
       "      <td>NICOBARS</td>\n",
       "      <td>Arecanut</td>\n",
       "      <td>2007</td>\n",
       "      <td>Rabi</td>\n",
       "      <td>1626.4</td>\n",
       "      <td>2277.0</td>\n",
       "      <td>1.40</td>\n",
       "    </tr>\n",
       "    <tr>\n",
       "      <th>2</th>\n",
       "      <td>Andaman and Nicobar Island</td>\n",
       "      <td>NICOBARS</td>\n",
       "      <td>Arecanut</td>\n",
       "      <td>2008</td>\n",
       "      <td>Autumn</td>\n",
       "      <td>4147.0</td>\n",
       "      <td>3060.0</td>\n",
       "      <td>0.74</td>\n",
       "    </tr>\n",
       "    <tr>\n",
       "      <th>3</th>\n",
       "      <td>Andaman and Nicobar Island</td>\n",
       "      <td>NICOBARS</td>\n",
       "      <td>Arecanut</td>\n",
       "      <td>2008</td>\n",
       "      <td>Summer</td>\n",
       "      <td>4147.0</td>\n",
       "      <td>2660.0</td>\n",
       "      <td>0.64</td>\n",
       "    </tr>\n",
       "    <tr>\n",
       "      <th>4</th>\n",
       "      <td>Andaman and Nicobar Island</td>\n",
       "      <td>NICOBARS</td>\n",
       "      <td>Arecanut</td>\n",
       "      <td>2009</td>\n",
       "      <td>Autumn</td>\n",
       "      <td>4153.0</td>\n",
       "      <td>3120.0</td>\n",
       "      <td>0.75</td>\n",
       "    </tr>\n",
       "    <tr>\n",
       "      <th>...</th>\n",
       "      <td>...</td>\n",
       "      <td>...</td>\n",
       "      <td>...</td>\n",
       "      <td>...</td>\n",
       "      <td>...</td>\n",
       "      <td>...</td>\n",
       "      <td>...</td>\n",
       "      <td>...</td>\n",
       "    </tr>\n",
       "    <tr>\n",
       "      <th>345331</th>\n",
       "      <td>West Bengal</td>\n",
       "      <td>PURULIA</td>\n",
       "      <td>Wheat</td>\n",
       "      <td>2015</td>\n",
       "      <td>Rabi</td>\n",
       "      <td>855.0</td>\n",
       "      <td>1241.0</td>\n",
       "      <td>1.45</td>\n",
       "    </tr>\n",
       "    <tr>\n",
       "      <th>345332</th>\n",
       "      <td>West Bengal</td>\n",
       "      <td>PURULIA</td>\n",
       "      <td>Wheat</td>\n",
       "      <td>2016</td>\n",
       "      <td>Rabi</td>\n",
       "      <td>1366.0</td>\n",
       "      <td>2415.0</td>\n",
       "      <td>1.77</td>\n",
       "    </tr>\n",
       "    <tr>\n",
       "      <th>345333</th>\n",
       "      <td>West Bengal</td>\n",
       "      <td>PURULIA</td>\n",
       "      <td>Wheat</td>\n",
       "      <td>2017</td>\n",
       "      <td>Rabi</td>\n",
       "      <td>1052.0</td>\n",
       "      <td>2145.0</td>\n",
       "      <td>2.04</td>\n",
       "    </tr>\n",
       "    <tr>\n",
       "      <th>345334</th>\n",
       "      <td>West Bengal</td>\n",
       "      <td>PURULIA</td>\n",
       "      <td>Wheat</td>\n",
       "      <td>2018</td>\n",
       "      <td>Rabi</td>\n",
       "      <td>833.0</td>\n",
       "      <td>2114.0</td>\n",
       "      <td>2.54</td>\n",
       "    </tr>\n",
       "    <tr>\n",
       "      <th>345335</th>\n",
       "      <td>West Bengal</td>\n",
       "      <td>PURULIA</td>\n",
       "      <td>Wheat</td>\n",
       "      <td>2019</td>\n",
       "      <td>Rabi</td>\n",
       "      <td>516.0</td>\n",
       "      <td>931.0</td>\n",
       "      <td>1.80</td>\n",
       "    </tr>\n",
       "  </tbody>\n",
       "</table>\n",
       "<p>345336 rows × 8 columns</p>\n",
       "</div>"
      ],
      "text/plain": [
       "                             State District       Crop  Crop_Year  \\\n",
       "0       Andaman and Nicobar Island  NICOBARS  Arecanut       2007   \n",
       "1       Andaman and Nicobar Island  NICOBARS  Arecanut       2007   \n",
       "2       Andaman and Nicobar Island  NICOBARS  Arecanut       2008   \n",
       "3       Andaman and Nicobar Island  NICOBARS  Arecanut       2008   \n",
       "4       Andaman and Nicobar Island  NICOBARS  Arecanut       2009   \n",
       "...                            ...       ...       ...        ...   \n",
       "345331                 West Bengal   PURULIA     Wheat       2015   \n",
       "345332                 West Bengal   PURULIA     Wheat       2016   \n",
       "345333                 West Bengal   PURULIA     Wheat       2017   \n",
       "345334                 West Bengal   PURULIA     Wheat       2018   \n",
       "345335                 West Bengal   PURULIA     Wheat       2019   \n",
       "\n",
       "             Season   Area   Production  Yield  \n",
       "0       Kharif       2439.6      3415.0   1.40  \n",
       "1       Rabi         1626.4      2277.0   1.40  \n",
       "2       Autumn       4147.0      3060.0   0.74  \n",
       "3       Summer       4147.0      2660.0   0.64  \n",
       "4       Autumn       4153.0      3120.0   0.75  \n",
       "...             ...     ...         ...    ...  \n",
       "345331  Rabi          855.0      1241.0   1.45  \n",
       "345332  Rabi         1366.0      2415.0   1.77  \n",
       "345333  Rabi         1052.0      2145.0   2.04  \n",
       "345334  Rabi          833.0      2114.0   2.54  \n",
       "345335  Rabi          516.0       931.0   1.80  \n",
       "\n",
       "[345336 rows x 8 columns]"
      ]
     },
     "execution_count": 4,
     "metadata": {},
     "output_type": "execute_result"
    }
   ],
   "source": [
    "df"
   ]
  },
  {
   "cell_type": "code",
   "execution_count": 5,
   "id": "390d51e5",
   "metadata": {},
   "outputs": [
    {
     "data": {
      "text/html": [
       "<div>\n",
       "<style scoped>\n",
       "    .dataframe tbody tr th:only-of-type {\n",
       "        vertical-align: middle;\n",
       "    }\n",
       "\n",
       "    .dataframe tbody tr th {\n",
       "        vertical-align: top;\n",
       "    }\n",
       "\n",
       "    .dataframe thead th {\n",
       "        text-align: right;\n",
       "    }\n",
       "</style>\n",
       "<table border=\"1\" class=\"dataframe\">\n",
       "  <thead>\n",
       "    <tr style=\"text-align: right;\">\n",
       "      <th></th>\n",
       "      <th>State</th>\n",
       "      <th>District</th>\n",
       "      <th>Crop</th>\n",
       "      <th>Crop_Year</th>\n",
       "      <th>Season</th>\n",
       "      <th>Area</th>\n",
       "      <th>Production</th>\n",
       "      <th>Yield</th>\n",
       "    </tr>\n",
       "  </thead>\n",
       "  <tbody>\n",
       "    <tr>\n",
       "      <th>345326</th>\n",
       "      <td>West Bengal</td>\n",
       "      <td>PURULIA</td>\n",
       "      <td>Wheat</td>\n",
       "      <td>2010</td>\n",
       "      <td>Rabi</td>\n",
       "      <td>2013.0</td>\n",
       "      <td>5152.0</td>\n",
       "      <td>2.56</td>\n",
       "    </tr>\n",
       "    <tr>\n",
       "      <th>345327</th>\n",
       "      <td>West Bengal</td>\n",
       "      <td>PURULIA</td>\n",
       "      <td>Wheat</td>\n",
       "      <td>2011</td>\n",
       "      <td>Rabi</td>\n",
       "      <td>1880.0</td>\n",
       "      <td>4206.0</td>\n",
       "      <td>2.24</td>\n",
       "    </tr>\n",
       "    <tr>\n",
       "      <th>345328</th>\n",
       "      <td>West Bengal</td>\n",
       "      <td>PURULIA</td>\n",
       "      <td>Wheat</td>\n",
       "      <td>2012</td>\n",
       "      <td>Rabi</td>\n",
       "      <td>1648.0</td>\n",
       "      <td>3310.0</td>\n",
       "      <td>2.01</td>\n",
       "    </tr>\n",
       "    <tr>\n",
       "      <th>345329</th>\n",
       "      <td>West Bengal</td>\n",
       "      <td>PURULIA</td>\n",
       "      <td>Wheat</td>\n",
       "      <td>2013</td>\n",
       "      <td>Rabi</td>\n",
       "      <td>1187.0</td>\n",
       "      <td>2675.0</td>\n",
       "      <td>2.25</td>\n",
       "    </tr>\n",
       "    <tr>\n",
       "      <th>345330</th>\n",
       "      <td>West Bengal</td>\n",
       "      <td>PURULIA</td>\n",
       "      <td>Wheat</td>\n",
       "      <td>2014</td>\n",
       "      <td>Rabi</td>\n",
       "      <td>1622.0</td>\n",
       "      <td>3663.0</td>\n",
       "      <td>2.26</td>\n",
       "    </tr>\n",
       "    <tr>\n",
       "      <th>345331</th>\n",
       "      <td>West Bengal</td>\n",
       "      <td>PURULIA</td>\n",
       "      <td>Wheat</td>\n",
       "      <td>2015</td>\n",
       "      <td>Rabi</td>\n",
       "      <td>855.0</td>\n",
       "      <td>1241.0</td>\n",
       "      <td>1.45</td>\n",
       "    </tr>\n",
       "    <tr>\n",
       "      <th>345332</th>\n",
       "      <td>West Bengal</td>\n",
       "      <td>PURULIA</td>\n",
       "      <td>Wheat</td>\n",
       "      <td>2016</td>\n",
       "      <td>Rabi</td>\n",
       "      <td>1366.0</td>\n",
       "      <td>2415.0</td>\n",
       "      <td>1.77</td>\n",
       "    </tr>\n",
       "    <tr>\n",
       "      <th>345333</th>\n",
       "      <td>West Bengal</td>\n",
       "      <td>PURULIA</td>\n",
       "      <td>Wheat</td>\n",
       "      <td>2017</td>\n",
       "      <td>Rabi</td>\n",
       "      <td>1052.0</td>\n",
       "      <td>2145.0</td>\n",
       "      <td>2.04</td>\n",
       "    </tr>\n",
       "    <tr>\n",
       "      <th>345334</th>\n",
       "      <td>West Bengal</td>\n",
       "      <td>PURULIA</td>\n",
       "      <td>Wheat</td>\n",
       "      <td>2018</td>\n",
       "      <td>Rabi</td>\n",
       "      <td>833.0</td>\n",
       "      <td>2114.0</td>\n",
       "      <td>2.54</td>\n",
       "    </tr>\n",
       "    <tr>\n",
       "      <th>345335</th>\n",
       "      <td>West Bengal</td>\n",
       "      <td>PURULIA</td>\n",
       "      <td>Wheat</td>\n",
       "      <td>2019</td>\n",
       "      <td>Rabi</td>\n",
       "      <td>516.0</td>\n",
       "      <td>931.0</td>\n",
       "      <td>1.80</td>\n",
       "    </tr>\n",
       "  </tbody>\n",
       "</table>\n",
       "</div>"
      ],
      "text/plain": [
       "              State District    Crop  Crop_Year       Season   Area   \\\n",
       "345326  West Bengal   PURULIA  Wheat       2010  Rabi         2013.0   \n",
       "345327  West Bengal   PURULIA  Wheat       2011  Rabi         1880.0   \n",
       "345328  West Bengal   PURULIA  Wheat       2012  Rabi         1648.0   \n",
       "345329  West Bengal   PURULIA  Wheat       2013  Rabi         1187.0   \n",
       "345330  West Bengal   PURULIA  Wheat       2014  Rabi         1622.0   \n",
       "345331  West Bengal   PURULIA  Wheat       2015  Rabi          855.0   \n",
       "345332  West Bengal   PURULIA  Wheat       2016  Rabi         1366.0   \n",
       "345333  West Bengal   PURULIA  Wheat       2017  Rabi         1052.0   \n",
       "345334  West Bengal   PURULIA  Wheat       2018  Rabi          833.0   \n",
       "345335  West Bengal   PURULIA  Wheat       2019  Rabi          516.0   \n",
       "\n",
       "        Production  Yield  \n",
       "345326      5152.0   2.56  \n",
       "345327      4206.0   2.24  \n",
       "345328      3310.0   2.01  \n",
       "345329      2675.0   2.25  \n",
       "345330      3663.0   2.26  \n",
       "345331      1241.0   1.45  \n",
       "345332      2415.0   1.77  \n",
       "345333      2145.0   2.04  \n",
       "345334      2114.0   2.54  \n",
       "345335       931.0   1.80  "
      ]
     },
     "execution_count": 5,
     "metadata": {},
     "output_type": "execute_result"
    }
   ],
   "source": [
    "df.tail(10)"
   ]
  },
  {
   "cell_type": "code",
   "execution_count": 7,
   "id": "abac34f5",
   "metadata": {},
   "outputs": [
    {
     "name": "stdout",
     "output_type": "stream",
     "text": [
      "<class 'pandas.core.frame.DataFrame'>\n",
      "RangeIndex: 345336 entries, 0 to 345335\n",
      "Data columns (total 8 columns):\n",
      " #   Column      Non-Null Count   Dtype  \n",
      "---  ------      --------------   -----  \n",
      " 0   State       345336 non-null  object \n",
      " 1   District    345336 non-null  object \n",
      " 2   Crop        345327 non-null  object \n",
      " 3   Crop_Year   345336 non-null  int64  \n",
      " 4   Season      345336 non-null  object \n",
      " 5   Area        345336 non-null  float64\n",
      " 6   Production  340388 non-null  float64\n",
      " 7   Yield       345336 non-null  float64\n",
      "dtypes: float64(3), int64(1), object(4)\n",
      "memory usage: 21.1+ MB\n"
     ]
    }
   ],
   "source": [
    "df.info()"
   ]
  },
  {
   "cell_type": "code",
   "execution_count": 20,
   "id": "b5e17dda",
   "metadata": {},
   "outputs": [
    {
     "data": {
      "text/plain": [
       "<AxesSubplot:>"
      ]
     },
     "execution_count": 20,
     "metadata": {},
     "output_type": "execute_result"
    },
    {
     "data": {
      "image/png": "[encoded data removed]",
      "text/plain": [
       "<Figure size 1080x576 with 2 Axes>"
      ]
     },
     "metadata": {
      "needs_background": "light"
     },
     "output_type": "display_data"
    }
   ],
   "source": [
    "plt.figure(figsize=(15,8))\n",
    "sns.heatmap(df.isnull(),yticklabels=False,cmap='viridis')"
   ]
  },
  {
   "cell_type": "code",
   "execution_count": 22,
   "id": "974bb973",
   "metadata": {},
   "outputs": [],
   "source": [
    "A=df['Production'].mean()"
   ]
  },
  {
   "cell_type": "code",
   "execution_count": 23,
   "id": "a2cfb28e",
   "metadata": {},
   "outputs": [],
   "source": [
    "df['Production']=df['Production'].fillna(A)"
   ]
  },
  {
   "cell_type": "code",
   "execution_count": 28,
   "id": "4cc3e45f",
   "metadata": {},
   "outputs": [
    {
     "data": {
      "text/plain": [
       "<AxesSubplot:>"
      ]
     },
     "execution_count": 28,
     "metadata": {},
     "output_type": "execute_result"
    },
    {
     "data": {
      "image/png": "[encoded data removed]",
      "text/plain": [
       "<Figure size 1080x576 with 2 Axes>"
      ]
     },
     "metadata": {
      "needs_background": "light"
     },
     "output_type": "display_data"
    }
   ],
   "source": [
    "plt.figure(figsize=(15,8))\n",
    "sns.heatmap(df.isnull(),yticklabels=False,cmap='viridis')"
   ]
  },
  {
   "cell_type": "code",
   "execution_count": 29,
   "id": "7872e6a1",
   "metadata": {},
   "outputs": [
    {
     "data": {
      "text/html": [
       "<div>\n",
       "<style scoped>\n",
       "    .dataframe tbody tr th:only-of-type {\n",
       "        vertical-align: middle;\n",
       "    }\n",
       "\n",
       "    .dataframe tbody tr th {\n",
       "        vertical-align: top;\n",
       "    }\n",
       "\n",
       "    .dataframe thead th {\n",
       "        text-align: right;\n",
       "    }\n",
       "</style>\n",
       "<table border=\"1\" class=\"dataframe\">\n",
       "  <thead>\n",
       "    <tr style=\"text-align: right;\">\n",
       "      <th></th>\n",
       "      <th>State</th>\n",
       "      <th>District</th>\n",
       "      <th>Crop</th>\n",
       "      <th>Crop_Year</th>\n",
       "      <th>Season</th>\n",
       "      <th>Area</th>\n",
       "      <th>Production</th>\n",
       "      <th>Yield</th>\n",
       "    </tr>\n",
       "  </thead>\n",
       "  <tbody>\n",
       "    <tr>\n",
       "      <th>0</th>\n",
       "      <td>Andaman and Nicobar Island</td>\n",
       "      <td>NICOBARS</td>\n",
       "      <td>Arecanut</td>\n",
       "      <td>2007</td>\n",
       "      <td>Kharif</td>\n",
       "      <td>2439.6</td>\n",
       "      <td>3415.0</td>\n",
       "      <td>1.40</td>\n",
       "    </tr>\n",
       "    <tr>\n",
       "      <th>1</th>\n",
       "      <td>Andaman and Nicobar Island</td>\n",
       "      <td>NICOBARS</td>\n",
       "      <td>Arecanut</td>\n",
       "      <td>2007</td>\n",
       "      <td>Rabi</td>\n",
       "      <td>1626.4</td>\n",
       "      <td>2277.0</td>\n",
       "      <td>1.40</td>\n",
       "    </tr>\n",
       "    <tr>\n",
       "      <th>2</th>\n",
       "      <td>Andaman and Nicobar Island</td>\n",
       "      <td>NICOBARS</td>\n",
       "      <td>Arecanut</td>\n",
       "      <td>2008</td>\n",
       "      <td>Autumn</td>\n",
       "      <td>4147.0</td>\n",
       "      <td>3060.0</td>\n",
       "      <td>0.74</td>\n",
       "    </tr>\n",
       "    <tr>\n",
       "      <th>3</th>\n",
       "      <td>Andaman and Nicobar Island</td>\n",
       "      <td>NICOBARS</td>\n",
       "      <td>Arecanut</td>\n",
       "      <td>2008</td>\n",
       "      <td>Summer</td>\n",
       "      <td>4147.0</td>\n",
       "      <td>2660.0</td>\n",
       "      <td>0.64</td>\n",
       "    </tr>\n",
       "    <tr>\n",
       "      <th>4</th>\n",
       "      <td>Andaman and Nicobar Island</td>\n",
       "      <td>NICOBARS</td>\n",
       "      <td>Arecanut</td>\n",
       "      <td>2009</td>\n",
       "      <td>Autumn</td>\n",
       "      <td>4153.0</td>\n",
       "      <td>3120.0</td>\n",
       "      <td>0.75</td>\n",
       "    </tr>\n",
       "    <tr>\n",
       "      <th>...</th>\n",
       "      <td>...</td>\n",
       "      <td>...</td>\n",
       "      <td>...</td>\n",
       "      <td>...</td>\n",
       "      <td>...</td>\n",
       "      <td>...</td>\n",
       "      <td>...</td>\n",
       "      <td>...</td>\n",
       "    </tr>\n",
       "    <tr>\n",
       "      <th>345331</th>\n",
       "      <td>West Bengal</td>\n",
       "      <td>PURULIA</td>\n",
       "      <td>Wheat</td>\n",
       "      <td>2015</td>\n",
       "      <td>Rabi</td>\n",
       "      <td>855.0</td>\n",
       "      <td>1241.0</td>\n",
       "      <td>1.45</td>\n",
       "    </tr>\n",
       "    <tr>\n",
       "      <th>345332</th>\n",
       "      <td>West Bengal</td>\n",
       "      <td>PURULIA</td>\n",
       "      <td>Wheat</td>\n",
       "      <td>2016</td>\n",
       "      <td>Rabi</td>\n",
       "      <td>1366.0</td>\n",
       "      <td>2415.0</td>\n",
       "      <td>1.77</td>\n",
       "    </tr>\n",
       "    <tr>\n",
       "      <th>345333</th>\n",
       "      <td>West Bengal</td>\n",
       "      <td>PURULIA</td>\n",
       "      <td>Wheat</td>\n",
       "      <td>2017</td>\n",
       "      <td>Rabi</td>\n",
       "      <td>1052.0</td>\n",
       "      <td>2145.0</td>\n",
       "      <td>2.04</td>\n",
       "    </tr>\n",
       "    <tr>\n",
       "      <th>345334</th>\n",
       "      <td>West Bengal</td>\n",
       "      <td>PURULIA</td>\n",
       "      <td>Wheat</td>\n",
       "      <td>2018</td>\n",
       "      <td>Rabi</td>\n",
       "      <td>833.0</td>\n",
       "      <td>2114.0</td>\n",
       "      <td>2.54</td>\n",
       "    </tr>\n",
       "    <tr>\n",
       "      <th>345335</th>\n",
       "      <td>West Bengal</td>\n",
       "      <td>PURULIA</td>\n",
       "      <td>Wheat</td>\n",
       "      <td>2019</td>\n",
       "      <td>Rabi</td>\n",
       "      <td>516.0</td>\n",
       "      <td>931.0</td>\n",
       "      <td>1.80</td>\n",
       "    </tr>\n",
       "  </tbody>\n",
       "</table>\n",
       "<p>345336 rows × 8 columns</p>\n",
       "</div>"
      ],
      "text/plain": [
       "                             State District       Crop  Crop_Year  \\\n",
       "0       Andaman and Nicobar Island  NICOBARS  Arecanut       2007   \n",
       "1       Andaman and Nicobar Island  NICOBARS  Arecanut       2007   \n",
       "2       Andaman and Nicobar Island  NICOBARS  Arecanut       2008   \n",
       "3       Andaman and Nicobar Island  NICOBARS  Arecanut       2008   \n",
       "4       Andaman and Nicobar Island  NICOBARS  Arecanut       2009   \n",
       "...                            ...       ...       ...        ...   \n",
       "345331                 West Bengal   PURULIA     Wheat       2015   \n",
       "345332                 West Bengal   PURULIA     Wheat       2016   \n",
       "345333                 West Bengal   PURULIA     Wheat       2017   \n",
       "345334                 West Bengal   PURULIA     Wheat       2018   \n",
       "345335                 West Bengal   PURULIA     Wheat       2019   \n",
       "\n",
       "             Season   Area   Production  Yield  \n",
       "0       Kharif       2439.6      3415.0   1.40  \n",
       "1       Rabi         1626.4      2277.0   1.40  \n",
       "2       Autumn       4147.0      3060.0   0.74  \n",
       "3       Summer       4147.0      2660.0   0.64  \n",
       "4       Autumn       4153.0      3120.0   0.75  \n",
       "...             ...     ...         ...    ...  \n",
       "345331  Rabi          855.0      1241.0   1.45  \n",
       "345332  Rabi         1366.0      2415.0   1.77  \n",
       "345333  Rabi         1052.0      2145.0   2.04  \n",
       "345334  Rabi          833.0      2114.0   2.54  \n",
       "345335  Rabi          516.0       931.0   1.80  \n",
       "\n",
       "[345336 rows x 8 columns]"
      ]
     },
     "execution_count": 29,
     "metadata": {},
     "output_type": "execute_result"
    }
   ],
   "source": [
    "df"
   ]
  },
  {
   "cell_type": "code",
   "execution_count": 32,
   "id": "40de5c2f",
   "metadata": {},
   "outputs": [],
   "source": [
    "from sklearn.preprocessing import LabelEncoder"
   ]
  },
  {
   "cell_type": "code",
   "execution_count": 33,
   "id": "6deb047a",
   "metadata": {},
   "outputs": [],
   "source": [
    "le=LabelEncoder()"
   ]
  },
  {
   "cell_type": "code",
   "execution_count": 34,
   "id": "cc5484ee",
   "metadata": {},
   "outputs": [],
   "source": [
    "df['State']=le.fit_transform(df['State'])\n",
    "df['Crop']=le.fit_transform(df['Crop'])\n",
    "df['Season']=le.fit_transform(df['Season'])"
   ]
  },
  {
   "cell_type": "code",
   "execution_count": 44,
   "id": "9b7a3250",
   "metadata": {},
   "outputs": [
    {
     "data": {
      "text/html": [
       "<div>\n",
       "<style scoped>\n",
       "    .dataframe tbody tr th:only-of-type {\n",
       "        vertical-align: middle;\n",
       "    }\n",
       "\n",
       "    .dataframe tbody tr th {\n",
       "        vertical-align: top;\n",
       "    }\n",
       "\n",
       "    .dataframe thead th {\n",
       "        text-align: right;\n",
       "    }\n",
       "</style>\n",
       "<table border=\"1\" class=\"dataframe\">\n",
       "  <thead>\n",
       "    <tr style=\"text-align: right;\">\n",
       "      <th></th>\n",
       "      <th>State</th>\n",
       "      <th>District</th>\n",
       "      <th>Crop</th>\n",
       "      <th>Crop_Year</th>\n",
       "      <th>Season</th>\n",
       "      <th>Area</th>\n",
       "      <th>Production</th>\n",
       "      <th>Yield</th>\n",
       "    </tr>\n",
       "  </thead>\n",
       "  <tbody>\n",
       "    <tr>\n",
       "      <th>0</th>\n",
       "      <td>0</td>\n",
       "      <td>NICOBARS</td>\n",
       "      <td>0</td>\n",
       "      <td>2007</td>\n",
       "      <td>1</td>\n",
       "      <td>2439.6</td>\n",
       "      <td>3415.0</td>\n",
       "      <td>1.40</td>\n",
       "    </tr>\n",
       "    <tr>\n",
       "      <th>1</th>\n",
       "      <td>0</td>\n",
       "      <td>NICOBARS</td>\n",
       "      <td>0</td>\n",
       "      <td>2007</td>\n",
       "      <td>2</td>\n",
       "      <td>1626.4</td>\n",
       "      <td>2277.0</td>\n",
       "      <td>1.40</td>\n",
       "    </tr>\n",
       "    <tr>\n",
       "      <th>2</th>\n",
       "      <td>0</td>\n",
       "      <td>NICOBARS</td>\n",
       "      <td>0</td>\n",
       "      <td>2008</td>\n",
       "      <td>0</td>\n",
       "      <td>4147.0</td>\n",
       "      <td>3060.0</td>\n",
       "      <td>0.74</td>\n",
       "    </tr>\n",
       "    <tr>\n",
       "      <th>3</th>\n",
       "      <td>0</td>\n",
       "      <td>NICOBARS</td>\n",
       "      <td>0</td>\n",
       "      <td>2008</td>\n",
       "      <td>3</td>\n",
       "      <td>4147.0</td>\n",
       "      <td>2660.0</td>\n",
       "      <td>0.64</td>\n",
       "    </tr>\n",
       "    <tr>\n",
       "      <th>4</th>\n",
       "      <td>0</td>\n",
       "      <td>NICOBARS</td>\n",
       "      <td>0</td>\n",
       "      <td>2009</td>\n",
       "      <td>0</td>\n",
       "      <td>4153.0</td>\n",
       "      <td>3120.0</td>\n",
       "      <td>0.75</td>\n",
       "    </tr>\n",
       "    <tr>\n",
       "      <th>...</th>\n",
       "      <td>...</td>\n",
       "      <td>...</td>\n",
       "      <td>...</td>\n",
       "      <td>...</td>\n",
       "      <td>...</td>\n",
       "      <td>...</td>\n",
       "      <td>...</td>\n",
       "      <td>...</td>\n",
       "    </tr>\n",
       "    <tr>\n",
       "      <th>345331</th>\n",
       "      <td>36</td>\n",
       "      <td>PURULIA</td>\n",
       "      <td>53</td>\n",
       "      <td>2015</td>\n",
       "      <td>2</td>\n",
       "      <td>855.0</td>\n",
       "      <td>1241.0</td>\n",
       "      <td>1.45</td>\n",
       "    </tr>\n",
       "    <tr>\n",
       "      <th>345332</th>\n",
       "      <td>36</td>\n",
       "      <td>PURULIA</td>\n",
       "      <td>53</td>\n",
       "      <td>2016</td>\n",
       "      <td>2</td>\n",
       "      <td>1366.0</td>\n",
       "      <td>2415.0</td>\n",
       "      <td>1.77</td>\n",
       "    </tr>\n",
       "    <tr>\n",
       "      <th>345333</th>\n",
       "      <td>36</td>\n",
       "      <td>PURULIA</td>\n",
       "      <td>53</td>\n",
       "      <td>2017</td>\n",
       "      <td>2</td>\n",
       "      <td>1052.0</td>\n",
       "      <td>2145.0</td>\n",
       "      <td>2.04</td>\n",
       "    </tr>\n",
       "    <tr>\n",
       "      <th>345334</th>\n",
       "      <td>36</td>\n",
       "      <td>PURULIA</td>\n",
       "      <td>53</td>\n",
       "      <td>2018</td>\n",
       "      <td>2</td>\n",
       "      <td>833.0</td>\n",
       "      <td>2114.0</td>\n",
       "      <td>2.54</td>\n",
       "    </tr>\n",
       "    <tr>\n",
       "      <th>345335</th>\n",
       "      <td>36</td>\n",
       "      <td>PURULIA</td>\n",
       "      <td>53</td>\n",
       "      <td>2019</td>\n",
       "      <td>2</td>\n",
       "      <td>516.0</td>\n",
       "      <td>931.0</td>\n",
       "      <td>1.80</td>\n",
       "    </tr>\n",
       "  </tbody>\n",
       "</table>\n",
       "<p>345336 rows × 8 columns</p>\n",
       "</div>"
      ],
      "text/plain": [
       "        State District   Crop  Crop_Year  Season   Area   Production  Yield\n",
       "0           0  NICOBARS     0       2007       1  2439.6      3415.0   1.40\n",
       "1           0  NICOBARS     0       2007       2  1626.4      2277.0   1.40\n",
       "2           0  NICOBARS     0       2008       0  4147.0      3060.0   0.74\n",
       "3           0  NICOBARS     0       2008       3  4147.0      2660.0   0.64\n",
       "4           0  NICOBARS     0       2009       0  4153.0      3120.0   0.75\n",
       "...       ...       ...   ...        ...     ...     ...         ...    ...\n",
       "345331     36   PURULIA    53       2015       2   855.0      1241.0   1.45\n",
       "345332     36   PURULIA    53       2016       2  1366.0      2415.0   1.77\n",
       "345333     36   PURULIA    53       2017       2  1052.0      2145.0   2.04\n",
       "345334     36   PURULIA    53       2018       2   833.0      2114.0   2.54\n",
       "345335     36   PURULIA    53       2019       2   516.0       931.0   1.80\n",
       "\n",
       "[345336 rows x 8 columns]"
      ]
     },
     "execution_count": 44,
     "metadata": {},
     "output_type": "execute_result"
    }
   ],
   "source": [
    "df"
   ]
  },
  {
   "cell_type": "code",
   "execution_count": 45,
   "id": "13ad45a7",
   "metadata": {},
   "outputs": [
    {
     "data": {
      "text/html": [
       "<div>\n",
       "<style scoped>\n",
       "    .dataframe tbody tr th:only-of-type {\n",
       "        vertical-align: middle;\n",
       "    }\n",
       "\n",
       "    .dataframe tbody tr th {\n",
       "        vertical-align: top;\n",
       "    }\n",
       "\n",
       "    .dataframe thead th {\n",
       "        text-align: right;\n",
       "    }\n",
       "</style>\n",
       "<table border=\"1\" class=\"dataframe\">\n",
       "  <thead>\n",
       "    <tr style=\"text-align: right;\">\n",
       "      <th></th>\n",
       "      <th>State</th>\n",
       "      <th>Crop</th>\n",
       "      <th>Crop_Year</th>\n",
       "      <th>Season</th>\n",
       "      <th>Area</th>\n",
       "      <th>Production</th>\n",
       "      <th>Yield</th>\n",
       "    </tr>\n",
       "  </thead>\n",
       "  <tbody>\n",
       "    <tr>\n",
       "      <th>count</th>\n",
       "      <td>345336.000000</td>\n",
       "      <td>345336.000000</td>\n",
       "      <td>345336.000000</td>\n",
       "      <td>345336.000000</td>\n",
       "      <td>3.453360e+05</td>\n",
       "      <td>3.453360e+05</td>\n",
       "      <td>345336.000000</td>\n",
       "    </tr>\n",
       "    <tr>\n",
       "      <th>mean</th>\n",
       "      <td>19.386493</td>\n",
       "      <td>29.162917</td>\n",
       "      <td>2008.887512</td>\n",
       "      <td>2.092252</td>\n",
       "      <td>1.167147e+04</td>\n",
       "      <td>9.584726e+05</td>\n",
       "      <td>79.423135</td>\n",
       "    </tr>\n",
       "    <tr>\n",
       "      <th>std</th>\n",
       "      <td>11.274962</td>\n",
       "      <td>15.459638</td>\n",
       "      <td>6.564361</td>\n",
       "      <td>1.244031</td>\n",
       "      <td>4.584079e+04</td>\n",
       "      <td>2.137587e+07</td>\n",
       "      <td>916.678396</td>\n",
       "    </tr>\n",
       "    <tr>\n",
       "      <th>min</th>\n",
       "      <td>0.000000</td>\n",
       "      <td>0.000000</td>\n",
       "      <td>1997.000000</td>\n",
       "      <td>0.000000</td>\n",
       "      <td>4.000000e-03</td>\n",
       "      <td>0.000000e+00</td>\n",
       "      <td>0.000000</td>\n",
       "    </tr>\n",
       "    <tr>\n",
       "      <th>25%</th>\n",
       "      <td>11.000000</td>\n",
       "      <td>17.000000</td>\n",
       "      <td>2003.000000</td>\n",
       "      <td>1.000000</td>\n",
       "      <td>7.400000e+01</td>\n",
       "      <td>9.000000e+01</td>\n",
       "      <td>0.550000</td>\n",
       "    </tr>\n",
       "    <tr>\n",
       "      <th>50%</th>\n",
       "      <td>19.000000</td>\n",
       "      <td>29.000000</td>\n",
       "      <td>2009.000000</td>\n",
       "      <td>2.000000</td>\n",
       "      <td>5.320000e+02</td>\n",
       "      <td>7.690000e+02</td>\n",
       "      <td>1.000000</td>\n",
       "    </tr>\n",
       "    <tr>\n",
       "      <th>75%</th>\n",
       "      <td>31.000000</td>\n",
       "      <td>43.000000</td>\n",
       "      <td>2015.000000</td>\n",
       "      <td>3.000000</td>\n",
       "      <td>4.112000e+03</td>\n",
       "      <td>8.141000e+03</td>\n",
       "      <td>2.470000</td>\n",
       "    </tr>\n",
       "    <tr>\n",
       "      <th>max</th>\n",
       "      <td>36.000000</td>\n",
       "      <td>55.000000</td>\n",
       "      <td>2020.000000</td>\n",
       "      <td>5.000000</td>\n",
       "      <td>8.580100e+06</td>\n",
       "      <td>1.597800e+09</td>\n",
       "      <td>43958.330000</td>\n",
       "    </tr>\n",
       "  </tbody>\n",
       "</table>\n",
       "</div>"
      ],
      "text/plain": [
       "               State           Crop      Crop_Year         Season  \\\n",
       "count  345336.000000  345336.000000  345336.000000  345336.000000   \n",
       "mean       19.386493      29.162917    2008.887512       2.092252   \n",
       "std        11.274962      15.459638       6.564361       1.244031   \n",
       "min         0.000000       0.000000    1997.000000       0.000000   \n",
       "25%        11.000000      17.000000    2003.000000       1.000000   \n",
       "50%        19.000000      29.000000    2009.000000       2.000000   \n",
       "75%        31.000000      43.000000    2015.000000       3.000000   \n",
       "max        36.000000      55.000000    2020.000000       5.000000   \n",
       "\n",
       "              Area     Production          Yield  \n",
       "count  3.453360e+05  3.453360e+05  345336.000000  \n",
       "mean   1.167147e+04  9.584726e+05      79.423135  \n",
       "std    4.584079e+04  2.137587e+07     916.678396  \n",
       "min    4.000000e-03  0.000000e+00       0.000000  \n",
       "25%    7.400000e+01  9.000000e+01       0.550000  \n",
       "50%    5.320000e+02  7.690000e+02       1.000000  \n",
       "75%    4.112000e+03  8.141000e+03       2.470000  \n",
       "max    8.580100e+06  1.597800e+09   43958.330000  "
      ]
     },
     "execution_count": 45,
     "metadata": {},
     "output_type": "execute_result"
    }
   ],
   "source": [
    "df.describe()"
   ]
  },
  {
   "cell_type": "code",
   "execution_count": 48,
   "id": "300e9658",
   "metadata": {},
   "outputs": [
    {
     "data": {
      "text/plain": [
       "<AxesSubplot:>"
      ]
     },
     "execution_count": 48,
     "metadata": {},
     "output_type": "execute_result"
    },
    {
     "data": {
      "image/png": "[encoded data removed]",
      "text/plain": [
       "<Figure size 720x576 with 2 Axes>"
      ]
     },
     "metadata": {
      "needs_background": "light"
     },
     "output_type": "display_data"
    }
   ],
   "source": [
    "plt.figure(figsize=(10,8))\n",
    "sns.heatmap(df.corr())"
   ]
  },
  {
   "cell_type": "code",
   "execution_count": 61,
   "id": "8da3089d",
   "metadata": {},
   "outputs": [
    {
     "data": {
      "text/plain": [
       "Index(['State', 'District ', 'Crop', 'Crop_Year', 'Season', 'Area ',\n",
       "       'Production', 'Yield'],\n",
       "      dtype='object')"
      ]
     },
     "execution_count": 61,
     "metadata": {},
     "output_type": "execute_result"
    }
   ],
   "source": [
    "df.columns"
   ]
  },
  {
   "cell_type": "code",
   "execution_count": 65,
   "id": "06608ad3",
   "metadata": {},
   "outputs": [],
   "source": [
    "y=df['Yield']\n",
    "X=df[['State', 'Crop', 'Crop_Year', 'Season', 'Area ','Production']]"
   ]
  },
  {
   "cell_type": "code",
   "execution_count": 66,
   "id": "5072033a",
   "metadata": {},
   "outputs": [],
   "source": [
    "from sklearn.model_selection import train_test_split"
   ]
  },
  {
   "cell_type": "code",
   "execution_count": 94,
   "id": "d0afa0fd",
   "metadata": {},
   "outputs": [],
   "source": [
    "X_train, X_test, y_train, y_test = train_test_split(X, y, test_size=0.2, random_state=9)"
   ]
  },
  {
   "cell_type": "code",
   "execution_count": 95,
   "id": "da9fa0df",
   "metadata": {},
   "outputs": [],
   "source": [
    "from sklearn.linear_model import LinearRegression"
   ]
  },
  {
   "cell_type": "code",
   "execution_count": 96,
   "id": "5ea0072a",
   "metadata": {},
   "outputs": [],
   "source": [
    "lm=LinearRegression()"
   ]
  },
  {
   "cell_type": "code",
   "execution_count": 97,
   "id": "af8ed433",
   "metadata": {},
   "outputs": [
    {
     "data": {
      "text/html": [
       "<style>#sk-container-id-4 {color: black;background-color: white;}#sk-container-id-4 pre{padding: 0;}#sk-container-id-4 div.sk-toggleable {background-color: white;}#sk-container-id-4 label.sk-toggleable__label {cursor: pointer;display: block;width: 100%;margin-bottom: 0;padding: 0.3em;box-sizing: border-box;text-align: center;}#sk-container-id-4 label.sk-toggleable__label-arrow:before {content: \"▸\";float: left;margin-right: 0.25em;color: #696969;}#sk-container-id-4 label.sk-toggleable__label-arrow:hover:before {color: black;}#sk-container-id-4 div.sk-estimator:hover label.sk-toggleable__label-arrow:before {color: black;}#sk-container-id-4 div.sk-toggleable__content {max-height: 0;max-width: 0;overflow: hidden;text-align: left;background-color: #f0f8ff;}#sk-container-id-4 div.sk-toggleable__content pre {margin: 0.2em;color: black;border-radius: 0.25em;background-color: #f0f8ff;}#sk-container-id-4 input.sk-toggleable__control:checked~div.sk-toggleable__content {max-height: 200px;max-width: 100%;overflow: auto;}#sk-container-id-4 input.sk-toggleable__control:checked~label.sk-toggleable__label-arrow:before {content: \"▾\";}#sk-container-id-4 div.sk-estimator input.sk-toggleable__control:checked~label.sk-toggleable__label {background-color: #d4ebff;}#sk-container-id-4 div.sk-label input.sk-toggleable__control:checked~label.sk-toggleable__label {background-color: #d4ebff;}#sk-container-id-4 input.sk-hidden--visually {border: 0;clip: rect(1px 1px 1px 1px);clip: rect(1px, 1px, 1px, 1px);height: 1px;margin: -1px;overflow: hidden;padding: 0;position: absolute;width: 1px;}#sk-container-id-4 div.sk-estimator {font-family: monospace;background-color: #f0f8ff;border: 1px dotted black;border-radius: 0.25em;box-sizing: border-box;margin-bottom: 0.5em;}#sk-container-id-4 div.sk-estimator:hover {background-color: #d4ebff;}#sk-container-id-4 div.sk-parallel-item::after {content: \"\";width: 100%;border-bottom: 1px solid gray;flex-grow: 1;}#sk-container-id-4 div.sk-label:hover label.sk-toggleable__label {background-color: #d4ebff;}#sk-container-id-4 div.sk-serial::before {content: \"\";position: absolute;border-left: 1px solid gray;box-sizing: border-box;top: 0;bottom: 0;left: 50%;z-index: 0;}#sk-container-id-4 div.sk-serial {display: flex;flex-direction: column;align-items: center;background-color: white;padding-right: 0.2em;padding-left: 0.2em;position: relative;}#sk-container-id-4 div.sk-item {position: relative;z-index: 1;}#sk-container-id-4 div.sk-parallel {display: flex;align-items: stretch;justify-content: center;background-color: white;position: relative;}#sk-container-id-4 div.sk-item::before, #sk-container-id-4 div.sk-parallel-item::before {content: \"\";position: absolute;border-left: 1px solid gray;box-sizing: border-box;top: 0;bottom: 0;left: 50%;z-index: -1;}#sk-container-id-4 div.sk-parallel-item {display: flex;flex-direction: column;z-index: 1;position: relative;background-color: white;}#sk-container-id-4 div.sk-parallel-item:first-child::after {align-self: flex-end;width: 50%;}#sk-container-id-4 div.sk-parallel-item:last-child::after {align-self: flex-start;width: 50%;}#sk-container-id-4 div.sk-parallel-item:only-child::after {width: 0;}#sk-container-id-4 div.sk-dashed-wrapped {border: 1px dashed gray;margin: 0 0.4em 0.5em 0.4em;box-sizing: border-box;padding-bottom: 0.4em;background-color: white;}#sk-container-id-4 div.sk-label label {font-family: monospace;font-weight: bold;display: inline-block;line-height: 1.2em;}#sk-container-id-4 div.sk-label-container {text-align: center;}#sk-container-id-4 div.sk-container {/* jupyter's `normalize.less` sets `[hidden] { display: none; }` but bootstrap.min.css set `[hidden] { display: none !important; }` so we also need the `!important` here to be able to override the default hidden behavior on the sphinx rendered scikit-learn.org. See: https://github.com/scikit-learn/scikit-learn/issues/21755 */display: inline-block !important;position: relative;}#sk-container-id-4 div.sk-text-repr-fallback {display: none;}</style><div id=\"sk-container-id-4\" class=\"sk-top-container\"><div class=\"sk-text-repr-fallback\"><pre>LinearRegression()</pre><b>In a Jupyter environment, please rerun this cell to show the HTML representation or trust the notebook. <br />On GitHub, the HTML representation is unable to render, please try loading this page with nbviewer.org.</b></div><div class=\"sk-container\" hidden><div class=\"sk-item\"><div class=\"sk-estimator sk-toggleable\"><input class=\"sk-toggleable__control sk-hidden--visually\" id=\"sk-estimator-id-4\" type=\"checkbox\" checked><label for=\"sk-estimator-id-4\" class=\"sk-toggleable__label sk-toggleable__label-arrow\">LinearRegression</label><div class=\"sk-toggleable__content\"><pre>LinearRegression()</pre></div></div></div></div></div>"
      ],
      "text/plain": [
       "LinearRegression()"
      ]
     },
     "execution_count": 97,
     "metadata": {},
     "output_type": "execute_result"
    }
   ],
   "source": [
    "lm.fit(X_train,y_train)"
   ]
  },
  {
   "cell_type": "code",
   "execution_count": 98,
   "id": "beb9ba5f",
   "metadata": {},
   "outputs": [
    {
     "data": {
      "text/plain": [
       "array([ 5.32394652e-01, -5.16308214e+00,  1.50630913e+00,  7.86708848e+01,\n",
       "       -2.39590501e-04,  1.80156942e-05])"
      ]
     },
     "execution_count": 98,
     "metadata": {},
     "output_type": "execute_result"
    }
   ],
   "source": [
    "lm.coef_"
   ]
  },
  {
   "cell_type": "code",
   "execution_count": 99,
   "id": "61a67f92",
   "metadata": {},
   "outputs": [],
   "source": [
    "prediction=lm.predict(X_test)"
   ]
  },
  {
   "cell_type": "code",
   "execution_count": 100,
   "id": "5703ad81",
   "metadata": {},
   "outputs": [
    {
     "data": {
      "text/plain": [
       "array([ -34.90809166,   78.68968795,  -77.01418703, ...,   54.08092638,\n",
       "       -127.98244224,   14.69488115])"
      ]
     },
     "execution_count": 100,
     "metadata": {},
     "output_type": "execute_result"
    }
   ],
   "source": [
    "prediction"
   ]
  },
  {
   "cell_type": "code",
   "execution_count": 109,
   "id": "41ea158c",
   "metadata": {},
   "outputs": [],
   "source": [
    "from sklearn import metrics"
   ]
  },
  {
   "cell_type": "code",
   "execution_count": 110,
   "id": "4289e0bb",
   "metadata": {},
   "outputs": [
    {
     "name": "stdout",
     "output_type": "stream",
     "text": [
      "MAE 162.47105693894633\n",
      "MSE 582729.5797724728\n",
      "RMSE 763.3672640167856\n"
     ]
    }
   ],
   "source": [
    "print('MAE',metrics.mean_absolute_error(y_test,prediction))\n",
    "print('MSE',metrics.mean_squared_error(y_test,prediction))\n",
    "print('RMSE',np.sqrt(metrics.mean_squared_error(y_test,prediction)))"
   ]
  },
  {
   "cell_type": "code",
   "execution_count": null,
   "id": "542354a0",
   "metadata": {},
   "outputs": [],
   "source": []
  }
 ],
 "metadata": {
  "kernelspec": {
   "display_name": "Python 3 (ipykernel)",
   "language": "python",
   "name": "python3"
  },
  "language_info": {
   "codemirror_mode": {
    "name": "ipython",
    "version": 3
   },
   "file_extension": ".py",
   "mimetype": "text/x-python",
   "name": "python",
   "nbconvert_exporter": "python",
   "pygments_lexer": "ipython3",
   "version": "3.10.0"
  }
 },
 "nbformat": 4,
 "nbformat_minor": 5
}
